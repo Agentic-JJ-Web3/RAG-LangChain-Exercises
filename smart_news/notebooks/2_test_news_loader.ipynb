{
 "cells": [
  {
   "cell_type": "code",
   "execution_count": null,
   "metadata": {},
   "outputs": [],
   "source": [
    "import sys\n",
    "import os\n",
    "# Add the project root to the Python path\n",
    "sys.path.insert(0, os.path.abspath(os.path.join(os.path.dirname(__file__), '..')))\n",
    "\n",
    "from config.settings import NEWS_API_KEY\n",
    "from app.news_loader import NewsLoader\n",
    "\n",
    "# Create an instance of the NewsLoader\n",
    "loader = NewsLoader(api_key=NEWS_API_KEY, query=\"Tesla\")\n",
    "\n",
    "# Load the documents\n",
    "documents = loader.load()\n",
    "\n",
    "# Print the number of documents\n",
    "print(f'Loaded {len(documents)} documents')\n",
    "\n",
    "# Print the first document\n",
    "if documents:\n",
    "    print(documents[0])"
   ]
  }
 ],
 "metadata": {
  "kernelspec": {
   "display_name": "Python 3",
   "language": "python",
   "name": "python3"
  },
  "language_info": {
   "codemirror_mode": {
    "name": "ipython",
    "version": 3
   },
   "file_extension": ".py",
   "mimetype": "text/x-python",
   "name": "python",
   "nbconvert_exporter": "python",
   "pygments_lexer": "ipython3",
   "version": "3.10.0"
  }
 },
 "nbformat": 4,
 "nbformat_minor": 4
}
