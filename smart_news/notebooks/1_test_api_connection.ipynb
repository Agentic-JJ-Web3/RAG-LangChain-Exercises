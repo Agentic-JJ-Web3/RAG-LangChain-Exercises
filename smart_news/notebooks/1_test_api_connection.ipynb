{
 "cells": [
  {
   "cell_type": "code",
   "execution_count": null,
   "metadata": {},
   "outputs": [],
   "source": [
    "import sys\n",
    "import os\n",
    "# Add the project root to the Python path\n",
    "sys.path.insert(0, os.path.abspath(os.path.join(os.path.dirname(__file__), '..')))\n",
    "\n",
    "from config.settings import NEWS_API_KEY\n",
    "import requests\n",
    "\n",
    "# The base URL for the NewsData.io API\n",
    "URL = f'https://newsdata.io/api/1/news?apikey={NEWS_API_KEY}&q=Tesla'\n",
    "\n",
    "# Make the request\n",
    "response = requests.get(URL)\n",
    "\n",
    "# Check the response status code\n",
    "print(f'Status Code: {response.status_code}')\n",
    "\n",
    "# Print the response JSON\n",
    "if response.status_code == 200:\n",
    "    print(response.json())\n",
    "else:\n",
    "    print(f'Error: {response.text}')"
   ]
  }
 ],
 "metadata": {
  "kernelspec": {
   "display_name": "Python 3",
   "language": "python",
   "name": "python3"
  },
  "language_info": {
   "codemirror_mode": {
    "name": "ipython",
    "version": 3
   },
   "file_extension": ".py",
   "mimetype": "text/x-python",
   "name": "python",
   "nbconvert_exporter": "python",
   "pygments_lexer": "ipython3",
   "version": "3.10.0"
  }
 },
 "nbformat": 4,
 "nbformat_minor": 4
}