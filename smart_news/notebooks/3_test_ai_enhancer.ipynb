{
 "cells": [
  {
   "cell_type": "code",
   "execution_count": null,
   "metadata": {},
   "outputs": [],
   "source": [
    "import sys\n",
    "import os\n",
    "# Add the project root to the Python path\n",
    "sys.path.insert(0, os.path.abspath(os.path.join(os.path.dirname(__file__), '..')))\n",
    "\n",
    "from config.settings import NEWS_API_KEY, GOOGLE_API_KEY\n",
    "from app.news_loader import NewsLoader\n",
    "from app.ai_enhancer import enhance_article\n",
    "\n",
    "# Load the documents\n",
    "loader = NewsLoader(api_key=NEWS_API_KEY, query=\"AI in healthcare\")\n",
    "documents = loader.load()\n",
    "\n",
    "if documents:\n",
    "    # Get the content of the first article\n",
    "    article_content = documents[0].page_content\n",
    "    \n",
    "    if article_content and article_content != 'ONLY AVAILABLE IN PAID PLANS':\n",
    "        # Enhance the article\n",
    "        enhancement = enhance_article(article_content, GOOGLE_API_KEY)\n",
    "        \n",
    "        # Print the enhancement\n",
    "        print(enhancement)\n",
    "    else:\n",
    "        print(\"Article content is not available for enhancement.\")"
   ]
  }
 ],
 "metadata": {
  "kernelspec": {
   "display_name": "Python 3",
   "language": "python",
   "name": "python3"
  },
  "language_info": {
   "codemirror_mode": {
    "name": "ipython",
    "version": 3
   },
   "file_extension": ".py",
   "mimetype": "text/x-python",
   "name": "python",
   "nbconvert_exporter": "python",
   "pygments_lexer": "ipython3",
   "version": "3.10.0"
  }
 },
 "nbformat": 4,
 "nbformat_minor": 4
}